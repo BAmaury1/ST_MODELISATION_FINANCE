{
 "cells": [
  {
   "cell_type": "markdown",
   "metadata": {},
   "source": [
    "# TP4 \n",
    "\n",
    "## Amaury BURTIN "
   ]
  },
  {
   "cell_type": "markdown",
   "metadata": {},
   "source": [
    "## Imports "
   ]
  },
  {
   "cell_type": "code",
   "execution_count": null,
   "metadata": {},
   "outputs": [],
   "source": [
    "import numpy as np\n",
    "import matplotlib.pyplot as plt\n",
    "from statsmodels.distributions.empirical_distribution import ECDF\n",
    "import statsmodels as sm\n",
    "import scipy\n",
    "import powerlaw\n",
    "import scipy.optimize as sc\n",
    "import pandas as pd"
   ]
  },
  {
   "cell_type": "markdown",
   "metadata": {},
   "source": [
    "## Part 1+2 : Implement Franke and Westerhoff model and Explore FW's model's behaviour."
   ]
  },
  {
   "cell_type": "markdown",
   "metadata": {},
   "source": [
    "Question 1"
   ]
  },
  {
   "cell_type": "code",
   "execution_count": null,
   "metadata": {},
   "outputs": [],
   "source": [
    "#Parameters\n",
    "NIT = 10000\n",
    "R0 = 0\n",
    "R1 = 0\n",
    "X0 = 0\n",
    "phi = 0.18\n",
    "khi = 2.35\n",
    "pstar = 0\n",
    "mu = 0.01\n",
    "nu = 2.57\n",
    "alpha0 = -0.15\n",
    "alphax = 1.35\n",
    "alphad = 11.4\n",
    "stdf = 0.79\n",
    "stdc = 1.91\n",
    "\n",
    "#Matrix initialization\n",
    "R = np.zeros(NIT)\n",
    "R[0] = R0\n",
    "R[1] = R1\n",
    "X = np.zeros(NIT)\n",
    "X[0] = X0\n",
    "TIME = np.arange(NIT)"
   ]
  },
  {
   "cell_type": "code",
   "execution_count": null,
   "metadata": {},
   "outputs": [],
   "source": [
    "def P(R,t) :\n",
    "    \"\"\"Returns the price P[t]\"\"\"\n",
    "    return(np.cumsum(R[:t])[t-1])"
   ]
  },
  {
   "cell_type": "code",
   "execution_count": null,
   "metadata": {},
   "outputs": [],
   "source": [
    "def S(R,X,alpha0,alphax,alphad,pstar,t) :\n",
    "    \"\"\"Returns the choice of FW S[t]\"\"\"\n",
    "    return(alpha0 + alphax*X[t] + alphad*(pstar-P(R,t))**2)"
   ]
  },
  {
   "cell_type": "code",
   "execution_count": null,
   "metadata": {},
   "outputs": [],
   "source": [
    "def Normal(X,stdf,stdc,t) :\n",
    "    \"\"\"Returns E[t]\"\"\"\n",
    "    std = np.sqrt(1/2*(((1+X[t])*stdf)**2 + ((1-X[t])*stdc)**2))\n",
    "    return(np.random.normal(0,std))"
   ]
  },
  {
   "cell_type": "code",
   "execution_count": null,
   "metadata": {},
   "outputs": [],
   "source": [
    "def Xup(R,X,nu,alpha0,alphax,alphad,pstar,t) :\n",
    "    \"\"\"Returns the next change in fraction chartists and fundamentalists X[t+1]\"\"\"\n",
    "    St = S(R,X,alpha0,alphax,alphad,pstar,t)\n",
    "    val = X[t]\n",
    "    val += nu*((1-X[t])*np.exp(St)-(1+X[t])*np.exp(-St))\n",
    "    if val > 1 :\n",
    "        return(1)\n",
    "    elif val < -1 :\n",
    "        return(-1)\n",
    "    else :\n",
    "        return(val)"
   ]
  },
  {
   "cell_type": "code",
   "execution_count": null,
   "metadata": {},
   "outputs": [],
   "source": [
    "def Rup(R,X,mu,phi,khi,pstar,stdf,stdc,t) :\n",
    "    \"\"\"Returns the next return R[t+1]\"\"\"\n",
    "    val = mu/2\n",
    "    fundamentalists = (1+X[t])*phi*(pstar-P(R,t))\n",
    "    chartists = (1-X[t])*khi*(P(R,t)-P(R,t-1))\n",
    "    epsilon = Normal(X,stdf,stdc,t)\n",
    "    val*=(fundamentalists+chartists+epsilon)\n",
    "    return(val)"
   ]
  },
  {
   "cell_type": "code",
   "execution_count": null,
   "metadata": {},
   "outputs": [],
   "source": [
    "def evolution(X,R,NIT,nu,mu,phi,khi,pstar,stdf,stdc,alpha0,alphax,alphad) :\n",
    "    \"\"\"Let the return and the fraction of the two groups evolve over time\"\"\"\n",
    "    for t in range(2,NIT-2) :\n",
    "        X[t+1] = Xup(R,X,nu,alpha0,alphax,alphad,pstar,t)\n",
    "        R[t+1] = Rup(R,X,mu,phi,khi,pstar,stdf,stdc,t)"
   ]
  },
  {
   "cell_type": "code",
   "execution_count": null,
   "metadata": {},
   "outputs": [],
   "source": [
    "evolution(X,R,NIT,nu,mu,phi,khi,pstar,stdf,stdc,alpha0,alphax,alphad)"
   ]
  },
  {
   "cell_type": "code",
   "execution_count": null,
   "metadata": {},
   "outputs": [],
   "source": [
    "plt.plot(TIME,np.cumsum(R))\n",
    "plt.xlabel(\"Time\")\n",
    "plt.ylabel(\"Price\")\n",
    "plt.title(\"Price over time with two groups of agents\")\n",
    "plt.plot()"
   ]
  },
  {
   "cell_type": "markdown",
   "metadata": {},
   "source": [
    "Question 2"
   ]
  },
  {
   "cell_type": "code",
   "execution_count": null,
   "metadata": {},
   "outputs": [],
   "source": [
    "#Range for plotting\n",
    "a = -2\n",
    "b = -1.5\n",
    "n = 1000\n",
    "\n",
    "#Plotting sequences\n",
    "X = np.logspace(a,b,n)\n",
    "Y = np.zeros(n)\n",
    "\n",
    "for i in range(n) :\n",
    "    Y[i] = 1-ECDF(np.abs(R))(X[i])"
   ]
  },
  {
   "cell_type": "code",
   "execution_count": null,
   "metadata": {},
   "outputs": [],
   "source": [
    "plt.plot(X,Y)\n",
    "plt.xscale(\"log\")\n",
    "plt.yscale(\"log\")\n",
    "plt.title(\"1-ECDF of the return in logspace\")\n",
    "plt.show()"
   ]
  },
  {
   "cell_type": "markdown",
   "metadata": {},
   "source": [
    "Question 3"
   ]
  },
  {
   "cell_type": "code",
   "execution_count": null,
   "metadata": {},
   "outputs": [],
   "source": [
    "# Only evaluating the tail exponent on the 40 last percent of R (that are the most significant).\n",
    "low_bound = int(len(R) - 4*len(R)/10)\n",
    "powerlaw.Fit(np.abs(R[low_bound:])).power_law.alpha"
   ]
  },
  {
   "cell_type": "markdown",
   "metadata": {},
   "source": [
    "This result comes from the scipy library, so we have to add +1 on the result. Hence the tail coefficient is 4.7"
   ]
  },
  {
   "cell_type": "markdown",
   "metadata": {},
   "source": [
    "Question 4"
   ]
  },
  {
   "cell_type": "code",
   "execution_count": null,
   "metadata": {},
   "outputs": [],
   "source": [
    "#Parameters initialization\n",
    "NIT = 1000\n",
    "R0 = 0\n",
    "R1 = 0\n",
    "X0 = 0\n",
    "phi = 0.18\n",
    "khi = 2.35\n",
    "pstar = 0\n",
    "mu = 0.01\n",
    "nu = 2.57\n",
    "alpha0 = -0.15\n",
    "alphax = 1.35\n",
    "alphad = 11.4\n",
    "stdf = 0.79\n",
    "stdc = 1.91\n",
    "\n",
    "#Matrices initialization\n",
    "R = np.zeros(NIT)\n",
    "R[0] = R0\n",
    "R[1] = R1\n",
    "X = np.zeros(NIT)\n",
    "X[0] = X0\n",
    "TIME = np.arange(NIT)\n",
    "\n",
    "#Parameter Iteration Number for plotting the tail exponent with respect to different variables. \n",
    "PIN = 30\n",
    "Input = np.arange(PIN)\n",
    "\n"
   ]
  },
  {
   "cell_type": "code",
   "execution_count": null,
   "metadata": {},
   "outputs": [],
   "source": [
    "#Plot initialization :\n",
    "fig = plt.figure()\n",
    "fig.set_size_inches(15, 10, forward=True)\n",
    "plt.title(\"Dependance of the tail exponent on different parameters\")\n",
    "\n",
    "# Define low_bound based on current NIT\n",
    "low_bound_temp = int(NIT - 4*NIT/10)\n",
    "\n",
    "#Graph with respect to phi (0.18)\n",
    "PHI = np.linspace(0.1,20,PIN)\n",
    "TAIL_EXP = np.zeros(PIN)\n",
    "for k in range(PIN) :\n",
    "    # Reset arrays for each iteration\n",
    "    R_temp = np.zeros(NIT)\n",
    "    R_temp[0] = R0\n",
    "    R_temp[1] = R1\n",
    "    X_temp = np.zeros(NIT)\n",
    "    X_temp[0] = X0\n",
    "    evolution(X_temp,R_temp,NIT,nu,mu,PHI[k],khi,pstar,stdf,stdc,alpha0,alphax,alphad)\n",
    "    # Use absolute values and filter out zeros to avoid powerlaw fitting issues\n",
    "    abs_returns = np.abs(R_temp[low_bound_temp:])\n",
    "    abs_returns = abs_returns[abs_returns > 1e-10]  # Remove very small values\n",
    "    if len(abs_returns) > 10:  # Ensure enough data points\n",
    "        TAIL_EXP[k] = powerlaw.Fit(abs_returns, verbose=False).power_law.alpha\n",
    "    else:\n",
    "        TAIL_EXP[k] = np.nan\n",
    "plt.subplot(311)\n",
    "plt.plot(PHI,TAIL_EXP,\"r\")\n",
    "plt.ylabel(\"Tail exponent\")\n",
    "plt.title(\"Dependance on phi\")\n",
    "\n",
    "#Graph with respect to khi (2.35)\n",
    "KHI = np.linspace(0.1,100,PIN)\n",
    "TAIL_EXP = np.zeros(PIN)\n",
    "for k in range(PIN) :\n",
    "    # Reset arrays for each iteration\n",
    "    R_temp = np.zeros(NIT)\n",
    "    R_temp[0] = R0\n",
    "    R_temp[1] = R1\n",
    "    X_temp = np.zeros(NIT)\n",
    "    X_temp[0] = X0\n",
    "    evolution(X_temp,R_temp,NIT,nu,mu,phi,KHI[k],pstar,stdf,stdc,alpha0,alphax,alphad)\n",
    "    abs_returns = np.abs(R_temp[low_bound_temp:])\n",
    "    abs_returns = abs_returns[abs_returns > 1e-10]\n",
    "    if len(abs_returns) > 10:\n",
    "        TAIL_EXP[k] = powerlaw.Fit(abs_returns, verbose=False).power_law.alpha\n",
    "    else:\n",
    "        TAIL_EXP[k] = np.nan\n",
    "plt.subplot(312)\n",
    "plt.plot(KHI,TAIL_EXP,\"b\")\n",
    "plt.ylabel(\"Tail exponent\")\n",
    "plt.title(\"Dependance on khi\")\n",
    "\n",
    "#Graph with respect to alpha0 (-0.15)\n",
    "ALPHA0 = np.linspace(-5,5,PIN)\n",
    "TAIL_EXP = np.zeros(PIN)\n",
    "for k in range(PIN) :\n",
    "    # Reset arrays for each iteration\n",
    "    R_temp = np.zeros(NIT)\n",
    "    R_temp[0] = R0\n",
    "    R_temp[1] = R1\n",
    "    X_temp = np.zeros(NIT)\n",
    "    X_temp[0] = X0\n",
    "    evolution(X_temp,R_temp,NIT,nu,mu,phi,khi,pstar,stdf,stdc,ALPHA0[k],alphax,alphad)\n",
    "    abs_returns = np.abs(R_temp[low_bound_temp:])\n",
    "    abs_returns = abs_returns[abs_returns > 1e-10]\n",
    "    if len(abs_returns) > 10:\n",
    "        TAIL_EXP[k] = powerlaw.Fit(abs_returns, verbose=False).power_law.alpha\n",
    "    else:\n",
    "        TAIL_EXP[k] = np.nan\n",
    "plt.subplot(313)\n",
    "plt.plot(ALPHA0,TAIL_EXP,\"y\")\n",
    "plt.ylabel(\"Tail exponent\")\n",
    "plt.title(\"Dependance on alpha0\")\n",
    "\n",
    "plt.tight_layout()\n",
    "plt.show()"
   ]
  },
  {
   "cell_type": "markdown",
   "metadata": {},
   "source": [
    "The number of iteration is quite low in order to reduce computation time. One can clearly see that there cluster of values that tend to maximize the tail exponent. This is the case for each variable. "
   ]
  },
  {
   "cell_type": "markdown",
   "metadata": {},
   "source": [
    "## Part 3 : Calibrate the model"
   ]
  },
  {
   "cell_type": "markdown",
   "metadata": {},
   "source": [
    "Question 1"
   ]
  },
  {
   "cell_type": "code",
   "execution_count": null,
   "metadata": {},
   "outputs": [],
   "source": [
    "# Read the data from the file\n",
    "file_path = 'datatata.csv'  # Update this with the correct file path\n",
    "df = pd.read_csv(file_path)\n",
    "\n",
    "#Parameters of the plotting\n",
    "a = -3\n",
    "b = -1\n",
    "n = 1000\n",
    "\n",
    "#Sequences to plot\n",
    "X = np.logspace(a,b,n)\n",
    "Y = np.zeros(n)\n",
    "for i in range(n) :\n",
    "    Y[i] = 1-ECDF(np.abs(df[\"0\"]))(X[i])\n",
    "\n",
    "plt.plot(X,Y)\n",
    "plt.xlabel(\"input\")\n",
    "plt.ylabel(\"Return\")\n",
    "plt.yscale(\"log\")\n",
    "plt.title(\"1-ECDF of the studied series\")\n",
    "plt.show()\n"
   ]
  },
  {
   "cell_type": "code",
   "execution_count": null,
   "metadata": {},
   "outputs": [],
   "source": [
    "#Fitting the tail exponent\n",
    "powerlaw.Fit(np.abs(df[\"0\"])).power_law.alpha"
   ]
  },
  {
   "cell_type": "markdown",
   "metadata": {},
   "source": [
    "Question 2.1"
   ]
  },
  {
   "cell_type": "code",
   "execution_count": null,
   "metadata": {},
   "outputs": [],
   "source": [
    "#Redefining the evolution function to be phi, khi and alpha0 dependant. \n",
    "def evolution2(phi,khi,alpha0) :\n",
    "    phi = phi**2\n",
    "    khi = khi**2\n",
    "    NIT = 100\n",
    "    R0 = 0\n",
    "    R1 = 0\n",
    "    X0 = 0\n",
    "    pstar = 0\n",
    "    mu = 0.01\n",
    "    nu = 2.57\n",
    "    alphax = 1.35\n",
    "    alphad = 11.4\n",
    "    stdf = 0.79\n",
    "    stdc = 1.91\n",
    "    R = np.zeros(NIT)\n",
    "    R[0] = R0\n",
    "    R[1] = R1\n",
    "    X = np.zeros(NIT)\n",
    "    X[0] = X0\n",
    "    TIME = np.arange(NIT)\n",
    "    for t in range(2,NIT-2) :\n",
    "        X[t+1] = Xup(R,X,nu,alpha0,alphax,alphad,pstar,t)\n",
    "        R[t+1] = Rup(R,X,mu,phi,khi,pstar,stdf,stdc,t)\n",
    "    return(R)\n",
    "\n",
    "R = evolution2(phi=np.sqrt(0.18),khi=np.sqrt(2.35),alpha0=-0.15)"
   ]
  },
  {
   "cell_type": "code",
   "execution_count": null,
   "metadata": {},
   "outputs": [],
   "source": [
    "#Function that computes the tail exponent.\n",
    "def func(phi,khi,alpha0) :\n",
    "    R = evolution2(phi,khi,alpha0)\n",
    "    tail_exp = powerlaw.Fit(np.abs(R), verbose=False).power_law.alpha\n",
    "    return(tail_exp)\n",
    "\n",
    "def loss(X) :\n",
    "    return((9.2 - func(X[0],X[1],X[2])**2))\n",
    "\n",
    "sc.minimize(loss,np.array([np.sqrt(0.18),np.sqrt(2.35),-0.15]))"
   ]
  },
  {
   "cell_type": "markdown",
   "metadata": {},
   "source": [
    "One obtains a vector x of the parameters to plug to minimize the loss. Lets see if they do what they should through the func function, which outputs the tail exponent of a series generated with different parameters. "
   ]
  },
  {
   "cell_type": "code",
   "execution_count": null,
   "metadata": {},
   "outputs": [],
   "source": [
    "x =  [ 4.243e-01, 1.533e+00, -1.500e-01]\n",
    "func(x[0],x[1],x[2])"
   ]
  },
  {
   "cell_type": "markdown",
   "metadata": {},
   "source": [
    "The simulation does not seem near reality, even after having replaced the positive parameters with their square root and then their square. Lets try to rerun the minimization operation but with another starting point (0,0,0) for instance. "
   ]
  },
  {
   "cell_type": "code",
   "execution_count": null,
   "metadata": {},
   "outputs": [],
   "source": [
    "sc.minimize(loss,np.array([0,0,0]))"
   ]
  },
  {
   "cell_type": "markdown",
   "metadata": {},
   "source": [
    "Here the minimization parameters are really different from the first minimization. "
   ]
  },
  {
   "cell_type": "code",
   "execution_count": null,
   "metadata": {},
   "outputs": [],
   "source": [
    "x =  [ 1.825e-06, -1.096e-07, 6.967e-07]\n",
    "func(x[0],x[1],x[2])"
   ]
  },
  {
   "cell_type": "markdown",
   "metadata": {},
   "source": [
    "The result is once more not very close to reality. The difference could come from the starting point. Indeed, with 3 degrees of freedom, the shape of the function linking phi, khi and alpha0 is very complex and can hide many minima. "
   ]
  },
  {
   "cell_type": "markdown",
   "metadata": {},
   "source": [
    "Question 2.2"
   ]
  },
  {
   "cell_type": "markdown",
   "metadata": {},
   "source": [
    "Lets try manually by first acting on the parameters that have the most impact on the tail exponent (trying values close to maximizing the tail exponent). The goal of the following code is to find the set of parameters that will make the ouput of func as close as 9.2 as possible. The function is func(phi,khi,alpha0)."
   ]
  },
  {
   "cell_type": "code",
   "execution_count": null,
   "metadata": {},
   "outputs": [],
   "source": [
    "print(func(0,0,0))\n",
    "print(func(4,0,0))\n",
    "print(func(0,26,0))\n",
    "print(func(0,0,1.5))\n",
    "print(func(0,10,1.5))\n",
    "print(func(2,10,1.5))\n",
    "print(func(3,10,1.5))"
   ]
  },
  {
   "cell_type": "code",
   "execution_count": null,
   "metadata": {},
   "outputs": [],
   "source": [
    "print(func(3,26,1.5))\n",
    "print(func(4,26,1.5))\n",
    "print(func(4,24,1.5))"
   ]
  },
  {
   "cell_type": "markdown",
   "metadata": {},
   "source": [
    "The last parameters seem to fit the best, even though there are a lot of variations due to the gaussian noise in the process. Let's use these variables."
   ]
  },
  {
   "cell_type": "markdown",
   "metadata": {},
   "source": [
    "## Part 3 : Calibrate II"
   ]
  },
  {
   "cell_type": "markdown",
   "metadata": {},
   "source": [
    "Question 1 :"
   ]
  },
  {
   "cell_type": "code",
   "execution_count": null,
   "metadata": {},
   "outputs": [],
   "source": [
    "#Calculation of tail exponent many times\n",
    "X = [4,24,1.5]\n",
    "NIT = 20\n",
    "C = np.zeros(NIT)\n",
    "\n",
    "for i in range(NIT) :\n",
    "    C[i]=func(X[0],X[1],X[2])\n",
    "\n",
    "Mean = np.mean(C)\n",
    "print(Mean)"
   ]
  },
  {
   "cell_type": "markdown",
   "metadata": {},
   "source": [
    "The mean (4.97) is high, but still not close to cfill = 9.2."
   ]
  },
  {
   "cell_type": "code",
   "execution_count": null,
   "metadata": {},
   "outputs": [],
   "source": [
    "std = np.std(C)\n",
    "print(std)"
   ]
  },
  {
   "cell_type": "markdown",
   "metadata": {},
   "source": [
    "The std is quite high for such application, and the 99% interval does not even include the target value. This means that the noise applied to the return makes it very unpredictable. \n",
    "\n",
    "On the whole, trying to predict the price evolution or heavy tails event in agent based model is a tricky question, and requires very complex models that can deal with the latter uncertainty. "
   ]
  }
 ],
 "metadata": {
  "kernelspec": {
   "display_name": "Python 3",
   "language": "python",
   "name": "python3"
  },
  "language_info": {
   "codemirror_mode": {
    "name": "ipython",
    "version": 3
   },
   "file_extension": ".py",
   "mimetype": "text/x-python",
   "name": "python",
   "nbconvert_exporter": "python",
   "pygments_lexer": "ipython3",
   "version": "3.12.0"
  }
 },
 "nbformat": 4,
 "nbformat_minor": 2
}
