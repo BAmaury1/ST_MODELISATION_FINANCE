{
 "cells": [
  {
   "cell_type": "code",
   "execution_count": 1,
   "metadata": {},
   "outputs": [],
   "source": [
    "\n",
    "from arch import arch_model\n",
    "import numpy as np \n",
    "import pandas as pd"
   ]
  },
  {
   "cell_type": "code",
   "execution_count": 2,
   "metadata": {},
   "outputs": [
    {
     "data": {
      "text/plain": [
       "<bound method NDFrame.head of                                 IBM       OMC      MCHP        CI       SLB  \\\n",
       "index                                                                         \n",
       "2000-01-03 05:00:00+00:00  0.067680 -0.031749 -0.004540 -0.026731 -0.023610   \n",
       "2000-01-04 05:00:00+00:00 -0.030755 -0.033457 -0.077331 -0.003992 -0.013746   \n",
       "2000-01-05 05:00:00+00:00  0.053744 -0.029105  0.003008 -0.004008 -0.002309   \n",
       "2000-01-06 05:00:00+00:00 -0.008493  0.005479 -0.021898  0.047068  0.065983   \n",
       "2000-01-07 05:00:00+00:00 -0.032506  0.041478 -0.026694  0.042751  0.018231   \n",
       "...                             ...       ...       ...       ...       ...   \n",
       "2006-12-13 05:00:00+00:00  0.006882  0.005516 -0.009791 -0.006909  0.020091   \n",
       "2006-12-14 05:00:00+00:00  0.006206  0.004931  0.010971  0.009921  0.019840   \n",
       "2006-12-15 05:00:00+00:00 -0.001049  0.001512  0.008223 -0.000077 -0.017172   \n",
       "2006-12-18 05:00:00+00:00  0.001888  0.000472 -0.020686  0.000848 -0.037404   \n",
       "2006-12-19 05:00:00+00:00  0.005850 -0.002552 -0.005990  0.013928  0.010700   \n",
       "\n",
       "                                CAH       STT       CVX       ITW       DGX  \\\n",
       "index                                                                         \n",
       "2000-01-03 05:00:00+00:00  0.029584 -0.046398 -0.035244 -0.056125 -0.018576   \n",
       "2000-01-04 05:00:00+00:00 -0.011472 -0.054316  0.000000 -0.046054 -0.002086   \n",
       "2000-01-05 05:00:00+00:00  0.068138  0.015024  0.021412  0.009179 -0.008386   \n",
       "2000-01-06 05:00:00+00:00  0.034141  0.041083  0.038009 -0.004069  0.004202   \n",
       "2000-01-07 05:00:00+00:00  0.086433  0.035153  0.017425  0.062242  0.039059   \n",
       "...                             ...       ...       ...       ...       ...   \n",
       "2006-12-13 05:00:00+00:00 -0.007761  0.005521  0.007420 -0.003851 -0.016236   \n",
       "2006-12-14 05:00:00+00:00 -0.003213  0.007315  0.020883  0.026860 -0.001524   \n",
       "2006-12-15 05:00:00+00:00 -0.004608  0.019993 -0.007797 -0.023650 -0.003820   \n",
       "2006-12-18 05:00:00+00:00 -0.005094 -0.004774 -0.027572  0.009358 -0.007298   \n",
       "2006-12-19 05:00:00+00:00  0.000464  0.007895  0.015695 -0.005732 -0.001929   \n",
       "\n",
       "                           ...      QCOM      MXIM       APH       TDW  \\\n",
       "index                      ...                                           \n",
       "2000-01-03 05:00:00+00:00  ...  0.017866  0.038862  0.010276 -0.088907   \n",
       "2000-01-04 05:00:00+00:00  ... -0.100847 -0.037591 -0.034992 -0.011451   \n",
       "2000-01-05 05:00:00+00:00  ... -0.025618  0.004013 -0.022385 -0.019380   \n",
       "2000-01-06 05:00:00+00:00  ... -0.120239  0.026008 -0.027946  0.036507   \n",
       "2000-01-07 05:00:00+00:00  ...  0.068279  0.022742  0.010151  0.046091   \n",
       "...                        ...       ...       ...       ...       ...   \n",
       "2006-12-13 05:00:00+00:00  ... -0.011384 -0.018973  0.008048  0.011342   \n",
       "2006-12-14 05:00:00+00:00  ...  0.025181  0.012798  0.018935  0.007491   \n",
       "2006-12-15 05:00:00+00:00  ...  0.002281  0.006500 -0.027138 -0.007491   \n",
       "2006-12-18 05:00:00+00:00  ... -0.010946 -0.002920 -0.009683 -0.048724   \n",
       "2006-12-19 05:00:00+00:00  ... -0.014956 -0.019023 -0.002671  0.015082   \n",
       "\n",
       "                                 HP       UTX       WMT        GD        DE  \\\n",
       "index                                                                         \n",
       "2000-01-03 05:00:00+00:00 -0.055979 -0.039221 -0.034026 -0.072469 -0.011594   \n",
       "2000-01-04 05:00:00+00:00 -0.030772 -0.041864 -0.037165  0.041179 -0.001459   \n",
       "2000-01-05 05:00:00+00:00  0.000000 -0.020011 -0.021591  0.066218  0.027360   \n",
       "2000-01-06 05:00:00+00:00  0.057679  0.046762  0.010854  0.003427  0.045810   \n",
       "2000-01-07 05:00:00+00:00  0.023325  0.038830  0.072845  0.025888 -0.001358   \n",
       "...                             ...       ...       ...       ...       ...   \n",
       "2006-12-13 05:00:00+00:00 -0.013403 -0.009147  0.009104 -0.012272  0.002220   \n",
       "2006-12-14 05:00:00+00:00  0.010811 -0.034057  0.013417  0.006291  0.014779   \n",
       "2006-12-15 05:00:00+00:00 -0.004087  0.006265 -0.001506 -0.011380 -0.005530   \n",
       "2006-12-18 05:00:00+00:00 -0.043369 -0.003047 -0.001724  0.003854  0.004280   \n",
       "2006-12-19 05:00:00+00:00  0.018872  0.003527 -0.006057  0.020395  0.010364   \n",
       "\n",
       "                                HIG  \n",
       "index                                \n",
       "2000-01-03 05:00:00+00:00 -0.045892  \n",
       "2000-01-04 05:00:00+00:00 -0.033711  \n",
       "2000-01-05 05:00:00+00:00 -0.030459  \n",
       "2000-01-06 05:00:00+00:00  0.008798  \n",
       "2000-01-07 05:00:00+00:00  0.045657  \n",
       "...                             ...  \n",
       "2006-12-13 05:00:00+00:00  0.002229  \n",
       "2006-12-14 05:00:00+00:00  0.012721  \n",
       "2006-12-15 05:00:00+00:00  0.011258  \n",
       "2006-12-18 05:00:00+00:00 -0.004357  \n",
       "2006-12-19 05:00:00+00:00 -0.001857  \n",
       "\n",
       "[1752 rows x 30 columns]>"
      ]
     },
     "execution_count": 2,
     "metadata": {},
     "output_type": "execute_result"
    }
   ],
   "source": [
    "R = pd. read_csv ('multivariate_time_series.csv', index_col=0,parse_dates=True) \n",
    "R.head"
   ]
  },
  {
   "cell_type": "code",
   "execution_count": 3,
   "metadata": {},
   "outputs": [],
   "source": [
    "T_insample = 1500"
   ]
  },
  {
   "cell_type": "code",
   "execution_count": 4,
   "metadata": {},
   "outputs": [],
   "source": [
    "Rin = R.iloc[: T_insample].values.T \n",
    "Rout = R.iloc[T_insample:].values.T"
   ]
  },
  {
   "cell_type": "code",
   "execution_count": 5,
   "metadata": {},
   "outputs": [
    {
     "data": {
      "text/html": [
       "<table class=\"simpletable\">\n",
       "<caption>Constant Mean - GARCH Model Results</caption>\n",
       "<tr>\n",
       "  <th>Dep. Variable:</th>             <td>y</td>            <th>  R-squared:         </th>  <td>   0.000</td> \n",
       "</tr>\n",
       "<tr>\n",
       "  <th>Mean Model:</th>          <td>Constant Mean</td>      <th>  Adj. R-squared:    </th>  <td>   0.000</td> \n",
       "</tr>\n",
       "<tr>\n",
       "  <th>Vol Model:</th>               <td>GARCH</td>          <th>  Log-Likelihood:    </th> <td>  -4280.65</td>\n",
       "</tr>\n",
       "<tr>\n",
       "  <th>Distribution:</th>  <td>Standardized Student's t</td> <th>  AIC:               </th> <td>   8571.29</td>\n",
       "</tr>\n",
       "<tr>\n",
       "  <th>Method:</th>           <td>Maximum Likelihood</td>    <th>  BIC:               </th> <td>   8597.86</td>\n",
       "</tr>\n",
       "<tr>\n",
       "  <th></th>                           <td></td>             <th>  No. Observations:  </th>    <td>1500</td>   \n",
       "</tr>\n",
       "<tr>\n",
       "  <th>Date:</th>              <td>Tue, Jul 15 2025</td>     <th>  Df Residuals:      </th>    <td>1499</td>   \n",
       "</tr>\n",
       "<tr>\n",
       "  <th>Time:</th>                  <td>18:48:43</td>         <th>  Df Model:          </th>      <td>1</td>    \n",
       "</tr>\n",
       "</table>\n",
       "<table class=\"simpletable\">\n",
       "<caption>Mean Model</caption>\n",
       "<tr>\n",
       "   <td></td>     <th>coef</th>     <th>std err</th>      <th>t</th>       <th>P>|t|</th>   <th>95.0% Conf. Int.</th> \n",
       "</tr>\n",
       "<tr>\n",
       "  <th>mu</th> <td>   -0.0335</td> <td>8.456e-02</td> <td>   -0.396</td> <td>    0.692</td> <td>[ -0.199,  0.132]</td>\n",
       "</tr>\n",
       "</table>\n",
       "<table class=\"simpletable\">\n",
       "<caption>Volatility Model</caption>\n",
       "<tr>\n",
       "      <td></td>        <th>coef</th>     <th>std err</th>      <th>t</th>       <th>P>|t|</th>      <th>95.0% Conf. Int.</th>   \n",
       "</tr>\n",
       "<tr>\n",
       "  <th>omega</th>    <td>    0.0358</td> <td>2.952e-02</td> <td>    1.213</td> <td>    0.225</td> <td>[-2.205e-02,9.365e-02]</td>\n",
       "</tr>\n",
       "<tr>\n",
       "  <th>alpha[1]</th> <td>    0.0288</td> <td>1.441e-02</td> <td>    1.998</td> <td>4.576e-02</td>  <td>[5.421e-04,5.703e-02]</td>\n",
       "</tr>\n",
       "<tr>\n",
       "  <th>beta[1]</th>  <td>    0.9679</td> <td>1.446e-02</td> <td>   66.938</td>   <td>0.000</td>      <td>[  0.940,  0.996]</td>  \n",
       "</tr>\n",
       "</table>\n",
       "<table class=\"simpletable\">\n",
       "<caption>Distribution</caption>\n",
       "<tr>\n",
       "   <td></td>     <th>coef</th>     <th>std err</th>      <th>t</th>       <th>P>|t|</th>   <th>95.0% Conf. Int.</th> \n",
       "</tr>\n",
       "<tr>\n",
       "  <th>nu</th> <td>    5.4412</td> <td>    0.798</td> <td>    6.815</td> <td>9.444e-12</td> <td>[  3.876,  7.006]</td>\n",
       "</tr>\n",
       "</table><br/><br/>Covariance estimator: robust"
      ],
      "text/latex": [
       "\\begin{center}\n",
       "\\begin{tabular}{lclc}\n",
       "\\toprule\n",
       "\\textbf{Dep. Variable:} &            y             & \\textbf{  R-squared:         } &     0.000   \\\\\n",
       "\\textbf{Mean Model:}    &      Constant Mean       & \\textbf{  Adj. R-squared:    } &     0.000   \\\\\n",
       "\\textbf{Vol Model:}     &          GARCH           & \\textbf{  Log-Likelihood:    } &   -4280.65  \\\\\n",
       "\\textbf{Distribution:}  & Standardized Student's t & \\textbf{  AIC:               } &    8571.29  \\\\\n",
       "\\textbf{Method:}        &    Maximum Likelihood    & \\textbf{  BIC:               } &    8597.86  \\\\\n",
       "\\textbf{}               &                          & \\textbf{  No. Observations:  } &    1500     \\\\\n",
       "\\textbf{Date:}          &     Tue, Jul 15 2025     & \\textbf{  Df Residuals:      } &    1499     \\\\\n",
       "\\textbf{Time:}          &         18:48:43         & \\textbf{  Df Model:          } &     1       \\\\\n",
       "\\bottomrule\n",
       "\\end{tabular}\n",
       "\\begin{tabular}{lccccc}\n",
       "            & \\textbf{coef} & \\textbf{std err} & \\textbf{t} & \\textbf{P$> |$t$|$} & \\textbf{95.0\\% Conf. Int.}  \\\\\n",
       "\\midrule\n",
       "\\textbf{mu} &      -0.0335  &    8.456e-02     &    -0.396  &          0.692       &     [ -0.199,  0.132]       \\\\\n",
       "                  & \\textbf{coef} & \\textbf{std err} & \\textbf{t} & \\textbf{P$> |$t$|$} & \\textbf{95.0\\% Conf. Int.}  \\\\\n",
       "\\midrule\n",
       "\\textbf{omega}    &       0.0358  &    2.952e-02     &     1.213  &          0.225       &   [-2.205e-02,9.365e-02]    \\\\\n",
       "\\textbf{alpha[1]} &       0.0288  &    1.441e-02     &     1.998  &      4.576e-02       &   [5.421e-04,5.703e-02]     \\\\\n",
       "\\textbf{beta[1]}  &       0.9679  &    1.446e-02     &    66.938  &        0.000         &     [  0.940,  0.996]       \\\\\n",
       "            & \\textbf{coef} & \\textbf{std err} & \\textbf{t} & \\textbf{P$> |$t$|$} & \\textbf{95.0\\% Conf. Int.}  \\\\\n",
       "\\midrule\n",
       "\\textbf{nu} &       5.4412  &        0.798     &     6.815  &      9.444e-12       &     [  3.876,  7.006]       \\\\\n",
       "\\bottomrule\n",
       "\\end{tabular}\n",
       "%\\caption{Constant Mean - GARCH Model Results}\n",
       "\\end{center}\n",
       "\n",
       "Covariance estimator: robust"
      ],
      "text/plain": [
       "<class 'statsmodels.iolib.summary.Summary'>\n",
       "\"\"\"\n",
       "                        Constant Mean - GARCH Model Results                         \n",
       "====================================================================================\n",
       "Dep. Variable:                            y   R-squared:                       0.000\n",
       "Mean Model:                   Constant Mean   Adj. R-squared:                  0.000\n",
       "Vol Model:                            GARCH   Log-Likelihood:               -4280.65\n",
       "Distribution:      Standardized Student's t   AIC:                           8571.29\n",
       "Method:                  Maximum Likelihood   BIC:                           8597.86\n",
       "                                              No. Observations:                 1500\n",
       "Date:                      Tue, Jul 15 2025   Df Residuals:                     1499\n",
       "Time:                              18:48:43   Df Model:                            1\n",
       "                               Mean Model                               \n",
       "========================================================================\n",
       "                 coef    std err          t      P>|t|  95.0% Conf. Int.\n",
       "------------------------------------------------------------------------\n",
       "mu            -0.0335  8.456e-02     -0.396      0.692 [ -0.199,  0.132]\n",
       "                               Volatility Model                              \n",
       "=============================================================================\n",
       "                 coef    std err          t      P>|t|       95.0% Conf. Int.\n",
       "-----------------------------------------------------------------------------\n",
       "omega          0.0358  2.952e-02      1.213      0.225 [-2.205e-02,9.365e-02]\n",
       "alpha[1]       0.0288  1.441e-02      1.998  4.576e-02  [5.421e-04,5.703e-02]\n",
       "beta[1]        0.9679  1.446e-02     66.938      0.000      [  0.940,  0.996]\n",
       "                              Distribution                              \n",
       "========================================================================\n",
       "                 coef    std err          t      P>|t|  95.0% Conf. Int.\n",
       "------------------------------------------------------------------------\n",
       "nu             5.4412      0.798      6.815  9.444e-12 [  3.876,  7.006]\n",
       "========================================================================\n",
       "\n",
       "Covariance estimator: robust\n",
       "\"\"\""
      ]
     },
     "execution_count": 5,
     "metadata": {},
     "output_type": "execute_result"
    }
   ],
   "source": [
    "Rin_annual = Rin * 252\n",
    "ft = arch_model (Rin_annual [0], vol='GARCH',p=1,q=1, dist = 't').fit (disp='off')\n",
    "ft.summary()"
   ]
  },
  {
   "cell_type": "code",
   "execution_count": 6,
   "metadata": {},
   "outputs": [],
   "source": [
    "ret_devolatized = []\n",
    "last_conditional_volatility = [] \n",
    "for i in range (len (Rin_annual)):\n",
    "    ft = arch_model(Rin_annual[i] , vol= 'GARCH', p=1,q=1, mean= 'Constant', dist = 't').fit(disp='off')\n",
    "    ret_devolatized.append(ft.resid/ft.conditional_volatility) \n",
    "    last_conditional_volatility.append(ft.conditional_volatility[-1])"
   ]
  },
  {
   "cell_type": "code",
   "execution_count": 7,
   "metadata": {},
   "outputs": [],
   "source": [
    "ret_devolatized = np.array (ret_devolatized) \n",
    "last_conditional_volatility = np.diag(last_conditional_volatility)"
   ]
  },
  {
   "cell_type": "code",
   "execution_count": 8,
   "metadata": {},
   "outputs": [],
   "source": [
    "Correlation_devolatized = np.corrcoef(ret_devolatized)\n",
    "Covarince_estimator_garch = last_conditional_volatility @ Correlation_devolatized @last_conditional_volatility"
   ]
  },
  {
   "cell_type": "code",
   "execution_count": 9,
   "metadata": {},
   "outputs": [],
   "source": [
    "Cov_inverse = np.linalg.inv(Covarince_estimator_garch)\n",
    "weights = Cov_inverse.sum (axis=1) /Cov_inverse.sum()"
   ]
  },
  {
   "cell_type": "code",
   "execution_count": 10,
   "metadata": {},
   "outputs": [],
   "source": [
    "Rout = np.exp(Rout) - 1"
   ]
  },
  {
   "cell_type": "code",
   "execution_count": 11,
   "metadata": {},
   "outputs": [
    {
     "data": {
      "text/plain": [
       "0.09181620244883354"
      ]
     },
     "execution_count": 11,
     "metadata": {},
     "output_type": "execute_result"
    }
   ],
   "source": [
    "np.sqrt(252)*(weights @Rout) .std()"
   ]
  },
  {
   "cell_type": "code",
   "execution_count": 12,
   "metadata": {},
   "outputs": [
    {
     "data": {
      "text/plain": [
       "0.1292268021765246"
      ]
     },
     "execution_count": 12,
     "metadata": {},
     "output_type": "execute_result"
    }
   ],
   "source": [
    "equally_weighted_volatility = np.sqrt (252)*(Rout.mean(axis=0)).std() \n",
    "equally_weighted_volatility"
   ]
  },
  {
   "cell_type": "code",
   "execution_count": 13,
   "metadata": {},
   "outputs": [
    {
     "data": {
      "text/plain": [
       "1.5413481675747214"
      ]
     },
     "execution_count": 13,
     "metadata": {},
     "output_type": "execute_result"
    }
   ],
   "source": [
    "gm_mean_return = 252*(weights @ Rout).mean()\n",
    "gmv_volatility = np.sqrt(252) * (weights @ Rout).std()\n",
    "gmv_sharpe_ratio = gm_mean_return/gmv_volatility \n",
    "gmv_sharpe_ratio"
   ]
  },
  {
   "cell_type": "code",
   "execution_count": 14,
   "metadata": {},
   "outputs": [
    {
     "data": {
      "text/plain": [
       "0.1292268021765246"
      ]
     },
     "execution_count": 14,
     "metadata": {},
     "output_type": "execute_result"
    }
   ],
   "source": [
    "ew_mean_return = 252 * (Rout. mean (axis=0)).mean ()\n",
    "ew_volatility = np.sqrt(252) * (Rout.mean(axis=0)).std()\n",
    "ew_volatility"
   ]
  },
  {
   "cell_type": "code",
   "execution_count": 15,
   "metadata": {},
   "outputs": [
    {
     "data": {
      "text/plain": [
       "0.6834826935636714"
      ]
     },
     "execution_count": 15,
     "metadata": {},
     "output_type": "execute_result"
    }
   ],
   "source": [
    "ew_sharpe_ratio = ew_mean_return / ew_volatility \n",
    "ew_sharpe_ratio"
   ]
  },
  {
   "cell_type": "code",
   "execution_count": 16,
   "metadata": {},
   "outputs": [
    {
     "data": {
      "text/plain": [
       "0.09445242925031626"
      ]
     },
     "execution_count": 16,
     "metadata": {},
     "output_type": "execute_result"
    }
   ],
   "source": [
    "\n",
    "Cov_inverse_sample = np.linalg.inv(np.cov(Rin))\n",
    "weights_sample = Cov_inverse_sample.sum (axis=1) / Cov_inverse_sample.sum ()\n",
    "\n",
    "sample_volatility = np.sqrt (252)*(weights_sample @ Rout).std()\n",
    "sample_volatility"
   ]
  },
  {
   "cell_type": "code",
   "execution_count": 17,
   "metadata": {},
   "outputs": [
    {
     "data": {
      "text/plain": [
       "1.945443039793083"
      ]
     },
     "execution_count": 17,
     "metadata": {},
     "output_type": "execute_result"
    }
   ],
   "source": [
    "sample_sharpe_ratio = np.sqrt (252)*(weights_sample @ Rout).mean()/(weights_sample @ Rout).std()\n",
    "sample_sharpe_ratio"
   ]
  }
 ],
 "metadata": {
  "kernelspec": {
   "display_name": "Python 3",
   "language": "python",
   "name": "python3"
  },
  "language_info": {
   "codemirror_mode": {
    "name": "ipython",
    "version": 3
   },
   "file_extension": ".py",
   "mimetype": "text/x-python",
   "name": "python",
   "nbconvert_exporter": "python",
   "pygments_lexer": "ipython3",
   "version": "3.12.0"
  }
 },
 "nbformat": 4,
 "nbformat_minor": 2
}
